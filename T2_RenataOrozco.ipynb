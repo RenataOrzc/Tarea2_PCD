{
 "cells": [
  {
   "cell_type": "markdown",
   "metadata": {},
   "source": [
    "# ¿Qué son las MLOps?\n",
    "Las operaciones de machine learning (MLOps) son un conjunto de prácticas que automatizan y simplifican los flujos de trabajo y las implementaciones de machine learning (ML). \n",
    "\n",
    "## ¿Por qué se necesitan las MLOps?\n",
    "MLOps es esencial para automatizar y coordinar todo el proceso de desarrollo e implementación de modelos de machine learning, asegurando su integración continua y eficiente con el software asociado.\n",
    "\n",
    "## ¿Qué beneficios aportan las MLOps?\n",
    "* Aceleración del tiempo de lanzamiento: Facilitan un desarrollo más ágil y eficiente, automatizando la construcción e implementación de modelos para disminuir costos y acelerar el lanzamiento al mercado.\n",
    "* Incremento de la productividad: Mejoran la eficiencia al estandarizar los entornos de desarrollo, permitiendo la reutilización de modelos y mejorando la colaboración entre equipos.\n",
    "* Eficiencia en la implementación: Optimizan la gestión y supervisión de modelos en producción, integrándolos en flujos de trabajo CI/CD para mantener la calidad y resolver problemas de manera efectiva.\n",
    "\n",
    "## ¿Cómo se implementan las MLOps en la organización?\n",
    "1. **Nivel 0:** Procesos manuales donde los científicos de datos entrenan modelos y los pasan a los ingenieros para su despliegue. No se utilizan prácticas de integración continua ni se monitoriza el rendimiento de manera activa.\n",
    "\n",
    "2. **Nivel 1:** La automatización se introduce en la canalización de ML, permitiendo el entrenamiento continuo con datos nuevos. Los equipos de ingeniería y ciencia de datos trabajan juntos para crear componentes reutilizables y estandarizar las características.\n",
    "\n",
    "3. **Nivel 2:** Ideal para organizaciones tecnológicamente avanzadas que requieren entrenar y desplegar modelos con alta frecuencia. Involucra la orquestación de múltiples canalizaciones y el uso de un registro de modelos, garantizando la entrega continua y escalable de modelos en producción.\n",
    "\n",
    "## ¿En qué se diferencian las MLOps de las DevOps?\n",
    " **DevOps**: Se enfoca en integrar y automatizar los procesos entre los equipos de desarrollo y operaciones para que los cambios en el código se prueben, integren y desplieguen de manera rápida y eficiente, promoviendo colaboración y mejorando la calidad del software.\n",
    "\n",
    "**MLOps**: Está diseñado específicamente para el machine learning, gestionando la recopilación de datos, el entrenamiento de modelos, la validación, y el monitoreo continuo. Automatiza estas tareas para asegurar que los modelos de ML se implementen y actualicen de forma efectiva, aplicando principios similares a los de DevOps en el contexto de machine learning.\n"
   ]
  }
 ],
 "metadata": {
  "language_info": {
   "name": "python"
  }
 },
 "nbformat": 4,
 "nbformat_minor": 2
}
